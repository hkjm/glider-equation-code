{
 "cells": [
  {
   "cell_type": "markdown",
   "metadata": {
    "id": "mN1Iy-7QnAS4"
   },
   "source": [
    "# Preparation"
   ]
  },
  {
   "cell_type": "code",
   "execution_count": null,
   "metadata": {
    "id": "ZY1KAvZrZZlX"
   },
   "outputs": [],
   "source": [
    "import numpy as np\n",
    "import IPython.display\n",
    "import matplotlib.pyplot as plt\n",
    "%matplotlib inline\n",
    "import matplotlib.animation\n",
    "from PIL import Image\n",
    "\n",
    "import scipy\n",
    "from scipy import ndimage\n",
    "\n",
    "import torch\n",
    "import torch.nn as nn\n",
    "import torch.optim as optim\n",
    "from torch.optim.lr_scheduler import StepLR\n",
    "import torch.nn.functional as F\n",
    "\n",
    "def figure_world(A, cmap='viridis'):\n",
    "  global img\n",
    "  fig = plt.figure()\n",
    "  img = plt.imshow(A, cmap=cmap, interpolation=\"nearest\", vmin=0)\n",
    "  plt.close()\n",
    "  return fig\n",
    "\n",
    "def figure_asset(K, growth, cmap='viridis', K_sum=1, bar_K=False):\n",
    "  global R\n",
    "  K_size = K.shape[0];  K_mid = K_size // 2\n",
    "  fig, ax = plt.subplots(1, 3, figsize=(14,2), gridspec_kw={'width_ratios': [1,1,2]})\n",
    "  ax[0].imshow(K, cmap=cmap, interpolation=\"nearest\", vmin=0)\n",
    "  ax[0].title.set_text('kernel K')\n",
    "  if bar_K:\n",
    "    ax[1].bar(range(K_size), K[K_mid,:], width=1)\n",
    "  else:\n",
    "    ax[1].plot(range(K_size), K[K_mid,:])\n",
    "  ax[1].title.set_text('K cross-section')\n",
    "  ax[1].set_xlim([K_mid - R - 3, K_mid + R + 3])\n",
    "  if K_sum <= 1:\n",
    "    x = np.linspace(0, K_sum, 1000)\n",
    "    ax[2].plot(x, growth(x))\n",
    "  else:\n",
    "    x = np.arange(K_sum + 1)\n",
    "    ax[2].step(x, growth(x))\n",
    "  ax[2].axhline(y=0, color='grey', linestyle='dotted')\n",
    "  ax[2].title.set_text('target T')\n",
    "  return fig\n",
    "\n",
    "DEVICE = torch.device(\"cuda\" if torch.cuda.is_available() else \"cpu\")\n",
    "DTYPE  = torch.float32\n",
    "torch.set_default_dtype(DTYPE)\n",
    "\n",
    "\n",
    "def t(x, *, dtype=DTYPE):\n",
    "    return torch.as_tensor(x, dtype=dtype, device=DEVICE)"
   ]
  },
  {
   "cell_type": "code",
   "execution_count": null,
   "metadata": {
    "id": "Cs3BTccGdJCG"
   },
   "outputs": [],
   "source": [
    "def bell(x, m, s):\n",
    "    return np.exp(-((x - m) / s) ** 2 / 2)\n",
    "def target(U):\n",
    "  return bell(U, m, s)\n",
    "def update(i):\n",
    "  global A, img\n",
    "  U = np.real(np.fft.ifft2(fK * np.fft.fft2(A)))\n",
    "  A = A + 1/T * (target(U) - A)\n",
    "  img.set_array(A)\n",
    "  return img\n",
    "\n",
    "# Modified for changing m,s and fK.\n",
    "def update_param(i):\n",
    "  global A, img\n",
    "  U = np.real(np.fft.ifft2(fK * np.fft.fft2(A)))\n",
    "  A = A + 1/T * (bell(U,_m,_s) - A)\n",
    "  img.set_array(A)\n",
    "  return img\n",
    "def update_param_all(i):\n",
    "  global A, img\n",
    "  U = np.real(np.fft.ifft2(fK_new * np.fft.fft2(A)))\n",
    "  A = A + 1/T * (bell(U,_m,_s) - A)\n",
    "  img.set_array(A)\n",
    "  return img\n",
    "\n",
    "# Functions for torch implementation\n",
    "\n",
    "def bell_torch(x, m, s):\n",
    "    return torch.exp(-((x - m) / s) ** 2 / 2)\n",
    "\n",
    "def target_torch(U):\n",
    "    return bell_torch(U, 0.21, 0.018)\n",
    "\n",
    "\n",
    "def kernel_fft(b, R, size, _sigma=0.15, *, device=DEVICE, dtype=torch.float32):\n",
    "    b = b.to(device=device, dtype=dtype)\n",
    "    g = torch.arange(size, device=device, dtype=dtype) - size // 2\n",
    "    X, Y = torch.meshgrid(g, g, indexing='ij')\n",
    "    D = torch.sqrt(X * X + Y * Y) / R * b.numel()\n",
    "\n",
    "    idx = torch.clamp(D.long(), max=b.numel() - 1)\n",
    "    K = (D < b.numel()).float() * b[idx] * torch.exp(-((D % 1.0 - 0.5) ** 2) / (2 * _sigma ** 2))\n",
    "    K /= K.sum()\n",
    "\n",
    "    K_fft = torch.fft.fft2(torch.fft.ifftshift(K))\n",
    "    return K_fft\n",
    "\n",
    "\n",
    "def grad_periodic(__A):\n",
    "    _A_x = 0.5 * (torch.roll(__A, 1, 1) - torch.roll(__A, -1, 1))\n",
    "    _A_y = 0.5 * (torch.roll(__A, 1, 0) - torch.roll(__A, -1, 0))\n",
    "    return _A_x, _A_y\n",
    "\n",
    "def Loss_torch(__A, _v):\n",
    "    _gradA_x = grad_periodic(__A)[0]\n",
    "    _gradA_y = grad_periodic(__A)[1]\n",
    "    _gradA = [_gradA_x, _gradA_y]\n",
    "\n",
    "    _gradA_v = _gradA[0] * _v[0] + _gradA[1] * _v[1]\n",
    "\n",
    "    _A_fft = torch.fft.fft2(__A)\n",
    "    _KA_fft = _fK * _A_fft\n",
    "    _KA = torch.fft.ifft2(_KA_fft)\n",
    "\n",
    "    _KA_real = _KA.real\n",
    "\n",
    "    _T_KA = target_torch(_KA_real)\n",
    "\n",
    "    loss = ((_gradA_v + __A - _T_KA) ** 2).sum()\n",
    "\n",
    "    return loss\n",
    "\n",
    "def Loss_torch_param(__A, _v,_m,_s):\n",
    "    _gradA_x = grad_periodic(__A)[0]\n",
    "    _gradA_y = grad_periodic(__A)[1]\n",
    "    _gradA = [_gradA_x, _gradA_y]\n",
    "\n",
    "    _gradA_v = _gradA[0] * _v[0] + _gradA[1] * _v[1]\n",
    "\n",
    "    _A_fft = torch.fft.fft2(__A)\n",
    "    _KA_fft = _fK * _A_fft\n",
    "    _KA = torch.fft.ifft2(_KA_fft)\n",
    "    _KA_real = _KA.real\n",
    "    _T_KA = bell_torch(_KA_real,_m,_s)\n",
    "\n",
    "    loss = ((_gradA_v + __A - _T_KA) ** 2).sum()\n",
    "\n",
    "    return loss\n",
    "\n",
    "def Loss_torch_param_all(__A, _v,_m,_s,_b):\n",
    "    _gradA_x = grad_periodic(__A)[0]\n",
    "    _gradA_y = grad_periodic(__A)[1]\n",
    "    _gradA = [_gradA_x, _gradA_y]\n",
    "\n",
    "    _gradA_v = _gradA[0] * _v[0] + _gradA[1] * _v[1]\n",
    "\n",
    "    _A_fft = torch.fft.fft2(__A)\n",
    "    # _fK = kernel_fft(_b,R,size)\n",
    "    _fK = mix_kernel_fft_raw(_b)\n",
    "    _KA_fft = _fK * _A_fft\n",
    "    _KA = torch.fft.ifft2(_KA_fft)\n",
    "    _KA_real = _KA.real\n",
    "\n",
    "    _T_KA = bell_torch(_KA_real,_m,_s)\n",
    "\n",
    "    loss = ((_gradA_v + __A - _T_KA) ** 2).sum()\n",
    "\n",
    "    return loss\n",
    "\n"
   ]
  },
  {
   "cell_type": "code",
   "execution_count": null,
   "metadata": {
    "id": "cCEeIRDhczLA"
   },
   "outputs": [],
   "source": [
    "# Important parameters (T: size of timestep, resolution: spatial resolution)\n",
    "\n",
    "T = 10\n",
    "resolution = 1.0\n",
    "\n",
    "size = int(144*resolution)\n",
    "mid = size // 2\n",
    "R = 36*resolution\n",
    "Nx, Ny = size, size\n",
    "\n",
    "x = torch.linspace(0, Nx-1, Nx)\n",
    "y = torch.linspace(0, Ny-1, Ny)\n",
    "xv, yv = torch.meshgrid(x, y, indexing='ij')\n",
    "xv = t(xv)\n",
    "yv = t(yv)\n",
    "\n",
    "m = 0.21\n",
    "s = 0.018\n",
    "b = np.array([5/6,7/12,1])\n",
    "\n",
    "# parameters for initial gaussian patterns\n",
    "Nx, Ny = size, size\n",
    "x = torch.linspace(0, Nx-1, Nx)\n",
    "y = torch.linspace(0, Ny-1, Ny)\n",
    "xv, yv = torch.meshgrid(x, y, indexing='ij')\n",
    "center_x = Nx//2\n",
    "center_y = Ny//2\n",
    "\n",
    "# default kernel function\n",
    "D = np.linalg.norm(np.array(np.meshgrid(np.arange(-mid,mid), np.arange(-mid,mid))),axis=0)  / R * len(b)\n",
    "K = (D<len(b)) * b[np.minimum(D.astype(int),len(b)-1)] * bell(D % 1, 0.5, 0.15)\n",
    "_K = np.fft.ifftshift(K)\n",
    "fK = np.fft.fft2(_K / np.sum(_K))\n",
    "_fK = torch.from_numpy(fK).to(device=DEVICE)\n",
    "# _fK = fK"
   ]
  },
  {
   "cell_type": "code",
   "execution_count": null,
   "metadata": {
    "id": "K9eHJxWhyWES"
   },
   "outputs": [],
   "source": [
    "# (Optiional) These functions are used to speed up the FFT of the kernel (kernel_fft -> mix_kernel_fft_raw).\n",
    "\n",
    "def precompute_kernel_fft_basis(num_bins=3, size=size, R=R, sigma=0.15):\n",
    "    g = torch.arange(size, device=DEVICE) - size // 2\n",
    "    X, Y = torch.meshgrid(g, g, indexing=\"ij\")\n",
    "    D = torch.sqrt(X * X + Y * Y) / R * num_bins\n",
    "\n",
    "    basis_fft, basis_sum = [], []\n",
    "    for i in range(num_bins):\n",
    "        mask = (torch.floor(D) == i).float()\n",
    "        G = mask * torch.exp(-((D % 1 - 0.5) ** 2) / (2 * sigma ** 2))\n",
    "        basis_fft.append(torch.fft.fft2(torch.fft.ifftshift(G)))\n",
    "        basis_sum.append(G.sum())\n",
    "\n",
    "    return torch.stack(basis_fft), torch.tensor(basis_sum, device=DEVICE)\n",
    "\n",
    "K_FFT_BASIS, G_SUM = precompute_kernel_fft_basis()\n",
    "\n",
    "def mix_kernel_fft_raw(w, basis_fft=K_FFT_BASIS, basis_sum=G_SUM):\n",
    "    w_c = w.to(dtype=basis_fft.dtype, device=DEVICE)\n",
    "\n",
    "    K_fft_un = torch.tensordot(w_c, basis_fft, dims=1)\n",
    "\n",
    "    total_sum = (w_c * basis_sum).sum()\n",
    "    K_fft = K_fft_un / total_sum\n",
    "\n",
    "    return K_fft\n"
   ]
  },
  {
   "cell_type": "code",
   "execution_count": null,
   "metadata": {
    "id": "-wGFxan7HrKa"
   },
   "outputs": [],
   "source": [
    "# For generalized fitness function\n",
    "\n",
    "def velocity_torch_param_all(__A,_m,_s,_b):\n",
    "    __A_fft  = torch.fft.fft2(__A)\n",
    "    # __fK = kernel_fft(_b,R,size)\n",
    "    __fK = mix_kernel_fft_raw(_b)\n",
    "\n",
    "    __A_conv = torch.real(torch.fft.ifft2(__fK * __A_fft))\n",
    "    _R = __A - bell_torch(__A_conv,_m,_s)\n",
    "\n",
    "    __A_x, __A_y = grad_periodic(__A)\n",
    "\n",
    "    G_xx = torch.sum(__A_x * __A_x)\n",
    "    G_yy = torch.sum(__A_y * __A_y)\n",
    "    G_xy = torch.sum(__A_x * __A_y)\n",
    "    B_x  = torch.sum(_R   * __A_x)\n",
    "    B_y  = torch.sum(_R   * __A_y)\n",
    "\n",
    "    detG = G_xx * G_yy - G_xy * G_xy\n",
    "    eps  = 1e-12\n",
    "    if torch.abs(detG) < eps:\n",
    "        raise RuntimeError(\"Gram matrix is singular.\")\n",
    "\n",
    "    v_x = (B_x * G_yy - B_y * G_xy) / detG\n",
    "    v_y = (B_y * G_xx - B_x * G_xy) / detG\n",
    "    return torch.stack((v_x, v_y))\n",
    "\n",
    "def fitness_torch_param_all_biased(__A,_m,_s,_b,_lambda=1.0,_sigma =0.1):\n",
    "    # __fK = kernel_fft(_b,R,size)\n",
    "    __fK = mix_kernel_fft_raw(_b)\n",
    "\n",
    "    v   = velocity_torch_param_all(__A,_m,_s,_b)\n",
    "    print(v)\n",
    "    _R   = __A - bell_torch(torch.real(torch.fft.ifft2(__fK * torch.fft.fft2(__A))),_m,_s)\n",
    "    __A_x, __A_y = grad_periodic(__A)\n",
    "    proj = v[0] * __A_x + v[1] * __A_y\n",
    "    print(proj.sum())\n",
    "    print(_R.sum())\n",
    "    eps  = _R - proj\n",
    "    return torch.linalg.norm(eps) + _lambda * torch.exp(-(v[0] / _sigma) ** 2 / 2)\n"
   ]
  },
  {
   "cell_type": "markdown",
   "metadata": {
    "id": "fFzxkRxSelZ6"
   },
   "source": [
    "# Fig 1 : Gradient descent to obtain the glider pattern"
   ]
  },
  {
   "cell_type": "code",
   "execution_count": null,
   "metadata": {
    "id": "DWB7UnGWeVMU"
   },
   "outputs": [],
   "source": [
    "v_x = torch.tensor(3.4*resolution)\n",
    "v_y = torch.tensor(0.0)\n",
    "v = [v_x, v_y]\n",
    "\n",
    "# change this parameter for manipulating initial guassian width\n",
    "sigma_gaussian = 15*resolution\n",
    "\n",
    "gaussian = torch.exp(-((xv - center_x)**2 + (yv - center_y)**2) / (2 * sigma_gaussian**2))\n",
    "A = t(gaussian)\n",
    "\n",
    "A.requires_grad_(True)\n",
    "\n",
    "optimizer = optim.AdamW([A], lr=1e-2)\n",
    "scheduler = StepLR(optimizer, step_size=1000, gamma=0.5)\n",
    "num_steps = 5000\n",
    "\n",
    "A_List = []\n",
    "Loss_List = []\n",
    "for step in range(num_steps+1):\n",
    "    optimizer.zero_grad()\n",
    "\n",
    "    L_A = Loss_torch(A,v)\n",
    "    L_A.backward()\n",
    "\n",
    "    optimizer.step()\n",
    "    scheduler.step()\n",
    "\n",
    "    if step % 100 == 0:\n",
    "        # print(f\"Step {step}, Loss: {L_A.item()}\")\n",
    "        A_List.append(A.detach().cpu().clone().numpy())\n",
    "        Loss_List.append(L_A.item())"
   ]
  },
  {
   "cell_type": "code",
   "execution_count": null,
   "metadata": {
    "colab": {
     "base_uri": "https://localhost:8080/",
     "height": 252
    },
    "id": "qIhklb-Ch0yz",
    "outputId": "3a5e70eb-7f9e-49f0-fa7f-a319ba2e6c61"
   },
   "outputs": [],
   "source": [
    "fig= plt.figure(figsize=(8,2))\n",
    "plt.plot(range(0,len(Loss_List)*100,100),Loss_List,marker='.')\n",
    "plt.yscale('log')\n",
    "plt.xlabel('step')\n",
    "plt.ylabel('loss')"
   ]
  },
  {
   "cell_type": "code",
   "execution_count": null,
   "metadata": {
    "colab": {
     "base_uri": "https://localhost:8080/",
     "height": 387
    },
    "id": "LhHRIb-Miftr",
    "outputId": "85a00496-40ea-41c2-eedc-4d2c56ef2963"
   },
   "outputs": [],
   "source": [
    "fig= plt.figure(figsize=(10,4))\n",
    "fig.add_subplot(212)\n",
    "_Loss_List = Loss_List[:31]\n",
    "plt.plot(range(0,len(_Loss_List)*100,100),_Loss_List,marker='.')\n",
    "plt.yscale('log')\n",
    "plt.xlabel('step')\n",
    "plt.ylabel('loss')\n",
    "\n",
    "for i in range(0,7):\n",
    "  fig.add_subplot(2,7,i+1)\n",
    "  plt.imshow(A_List[i*5])\n",
    "  plt.axis('off')\n",
    "  plt.title('step:'+str(i*500))"
   ]
  },
  {
   "cell_type": "code",
   "execution_count": null,
   "metadata": {
    "colab": {
     "base_uri": "https://localhost:8080/",
     "height": 795
    },
    "id": "pZhhQ72jiiGm",
    "outputId": "3e160d65-efb7-4cfd-d8f1-066c53a0b46c"
   },
   "outputs": [],
   "source": [
    "A = A_List[-1]\n",
    "\n",
    "figure_asset(K, target)\n",
    "fig = figure_world(A)\n",
    "IPython.display.HTML(matplotlib.animation.FuncAnimation(fig, update, frames=200, interval=10).to_jshtml())"
   ]
  },
  {
   "cell_type": "markdown",
   "metadata": {
    "id": "1mQHQngypT5t"
   },
   "source": [
    "## optimizing velocity further decreased the loss function"
   ]
  },
  {
   "cell_type": "code",
   "execution_count": null,
   "metadata": {
    "id": "suMFCMn2pTqD"
   },
   "outputs": [],
   "source": [
    "v_x = torch.tensor(3.4*resolution)\n",
    "v_y = torch.tensor(0.0)\n",
    "v = [v_x, v_y]\n",
    "\n",
    "# change this parameter for manipulating initial guassian width\n",
    "sigma_gaussian = 15*resolution\n",
    "\n",
    "gaussian = torch.exp(-((xv - center_x)**2 + (yv - center_y)**2) / (2 * sigma_gaussian**2))\n",
    "A = t(gaussian)\n",
    "\n",
    "A.requires_grad_(True)\n",
    "v_x.requires_grad_(True)\n",
    "\n",
    "optimizer = optim.AdamW([A,v_x], lr=1e-2)\n",
    "scheduler = StepLR(optimizer, step_size=1000, gamma=0.5)\n",
    "num_steps = 8000\n",
    "\n",
    "A_List = []\n",
    "Loss_List = []\n",
    "for step in range(num_steps+1):\n",
    "    optimizer.zero_grad()\n",
    "\n",
    "    L_A = Loss_torch(A,v)\n",
    "    L_A.backward()\n",
    "\n",
    "    optimizer.step()\n",
    "    scheduler.step()\n",
    "\n",
    "    if step % 100 == 0:\n",
    "        # print(f\"Step {step}, Loss: {L_A.item()}\")\n",
    "        A_List.append(A.detach().cpu().clone().numpy())\n",
    "        Loss_List.append(L_A.item())"
   ]
  },
  {
   "cell_type": "code",
   "execution_count": null,
   "metadata": {
    "colab": {
     "base_uri": "https://localhost:8080/",
     "height": 470
    },
    "id": "Xds9f5vJqdzJ",
    "outputId": "0d6ecbbe-32e5-4627-dc6e-cb9e44a49caf"
   },
   "outputs": [],
   "source": [
    "print(v_x)\n",
    "plt.imshow(A_List[-1])"
   ]
  },
  {
   "cell_type": "code",
   "execution_count": null,
   "metadata": {
    "colab": {
     "base_uri": "https://localhost:8080/",
     "height": 252
    },
    "id": "Tv63FjCwpTga",
    "outputId": "ee7fd577-7335-484a-8f40-69d194b14e31"
   },
   "outputs": [],
   "source": [
    "fig= plt.figure(figsize=(8,2))\n",
    "plt.plot(range(0,len(Loss_List)*100,100),Loss_List,marker='.')\n",
    "plt.yscale('log')\n",
    "plt.xlabel('step')\n",
    "plt.ylabel('loss')"
   ]
  },
  {
   "cell_type": "markdown",
   "metadata": {
    "id": "TkO3NNPBmuxk"
   },
   "source": [
    "# Fig.2 : Gradient descent with different initial conditions"
   ]
  },
  {
   "cell_type": "code",
   "execution_count": null,
   "metadata": {
    "colab": {
     "base_uri": "https://localhost:8080/"
    },
    "id": "CEIsCZinjMPI",
    "outputId": "fbf1c70c-9df5-426e-aa8d-dec61f576d3d"
   },
   "outputs": [],
   "source": [
    "ResultingPattern = []\n",
    "for _velocity in [0,2.0,4.0,6.0,8.0,10.0]:\n",
    "  print(_velocity)\n",
    "  _ResultingPattern = []\n",
    "  for _gaussianWidth in [9,12,15,18,21]:\n",
    "    v_x = torch.tensor(_velocity*resolution)\n",
    "    v_y = torch.tensor(0.0)\n",
    "    v = [v_x, v_y]\n",
    "\n",
    "    sigma_gaussian = _gaussianWidth*resolution\n",
    "    gaussian = torch.exp(-((xv - center_x)**2 + (yv - center_y)**2) / (2 * sigma_gaussian**2))\n",
    "    A = t(gaussian)\n",
    "    A.requires_grad_(True)\n",
    "    A_List = []\n",
    "\n",
    "    optimizer = optim.AdamW([A], lr=1e-2)\n",
    "    scheduler = StepLR(optimizer, step_size=1000, gamma=0.5)\n",
    "    num_steps = 5000\n",
    "\n",
    "    for step in range(num_steps+1):\n",
    "        optimizer.zero_grad()\n",
    "        L_A = Loss_torch(A,v)\n",
    "        L_A.backward()\n",
    "\n",
    "        optimizer.step()\n",
    "        scheduler.step()\n",
    "\n",
    "        # if step % 1000 == 0:\n",
    "        #     print(f\"Step {step}, Loss: {L_A.item()}\")\n",
    "        #     A_List.append(A.detach().cpu().clone().numpy())\n",
    "\n",
    "    _ResultingPattern.append(A.detach().cpu().clone().numpy())\n",
    "  ResultingPattern.append(_ResultingPattern)"
   ]
  },
  {
   "cell_type": "code",
   "execution_count": null,
   "metadata": {
    "colab": {
     "base_uri": "https://localhost:8080/",
     "height": 518
    },
    "id": "iV1B3xnznq8j",
    "outputId": "33339bd0-3af1-465b-9620-e0549d3a08e1"
   },
   "outputs": [],
   "source": [
    "fig = plt.figure(figsize=(5,6))\n",
    "for i in range(0,6):\n",
    "  for j in range(0,5):\n",
    "    fig.add_subplot(6,5,i*5+j+1)\n",
    "    plt.imshow(ResultingPattern[i][j],clim=(0,1))\n",
    "    if i ==5:\n",
    "      plt.xlabel('width='+str([9,12,15,18,21][j]))\n",
    "    if j==0:\n",
    "      plt.ylabel('vel='+str(i*2))\n",
    "    ax = plt.gca()\n",
    "    ax.set_xticks([])\n",
    "    ax.set_yticks([])\n"
   ]
  },
  {
   "cell_type": "code",
   "execution_count": null,
   "metadata": {
    "id": "LC5L5qnynxqQ"
   },
   "outputs": [],
   "source": [
    "totalTime = 140\n",
    "totalFrame = T*totalTime\n",
    "\n",
    "LastImage = []\n",
    "for _velIdx in range(0,6):\n",
    "  _LastImage = []\n",
    "  for _widthIdx in range(0,5):\n",
    "    A = np.array(ResultingPattern)[_velIdx,_widthIdx]\n",
    "    for i in range(0,totalFrame):\n",
    "        update(i)\n",
    "    _LastImage.append(A)\n",
    "  LastImage.append(_LastImage)\n",
    "\n",
    "LastImage = np.array(LastImage)\n",
    "\n",
    "# Used in Fig.5\n",
    "LastImage_glider = LastImage[2][2].copy()\n",
    "LastImage_expand = LastImage[0][4].copy()"
   ]
  },
  {
   "cell_type": "code",
   "execution_count": null,
   "metadata": {
    "colab": {
     "base_uri": "https://localhost:8080/",
     "height": 518
    },
    "id": "pOfCrezfoB-e",
    "outputId": "ce23a104-7c68-4c18-e590-82be1893492a"
   },
   "outputs": [],
   "source": [
    "fig = plt.figure(figsize=(5,6))\n",
    "for i in range(0,6):\n",
    "  for j in range(0,5):\n",
    "    fig.add_subplot(6,5,i*5+j+1)\n",
    "    plt.imshow(LastImage[i][j],clim=(0,1))\n",
    "\n",
    "    if i ==5:\n",
    "      plt.xlabel('width='+str([9,12,15,18,21][j]))\n",
    "    if j==0:\n",
    "      plt.ylabel('vel='+str(i*2))\n",
    "    ax = plt.gca()\n",
    "    ax.set_xticks([])\n",
    "    ax.set_yticks([])"
   ]
  },
  {
   "cell_type": "markdown",
   "metadata": {
    "id": "Peapcv6Tpcqd"
   },
   "source": [
    "# Fig.3 : Modifying the glider to speed up"
   ]
  },
  {
   "cell_type": "markdown",
   "metadata": {
    "id": "wU69yOm6rEby"
   },
   "source": [
    "## (a) Only update the initial pattern"
   ]
  },
  {
   "cell_type": "code",
   "execution_count": null,
   "metadata": {
    "id": "YIveZIkyoGoP"
   },
   "outputs": [],
   "source": [
    "# v_x = torch.tensor(3.4*resolution)\n",
    "v_x = torch.tensor(6.0*resolution)\n",
    "v_y = torch.tensor(0.0)\n",
    "v = [v_x, v_y]\n",
    "\n",
    "sigma_gaussian = 15*resolution\n",
    "center_x = Nx//2\n",
    "center_y = Ny//4\n",
    "gaussian = torch.exp(-((xv - center_x)**2 + (yv - center_y)**2) / (2 * sigma_gaussian**2))\n",
    "A = t(gaussian)\n",
    "A.requires_grad_(True)\n",
    "\n",
    "A_List = []\n",
    "\n",
    "optimizer = optim.Adam([\n",
    "        {\"params\": [A],   \"lr\": 1e-2}\n",
    "    ])\n",
    "scheduler = StepLR(optimizer, step_size=1000, gamma=0.5)\n",
    "\n",
    "num_steps = 5000\n",
    "\n",
    "for step in range(num_steps+1):\n",
    "    optimizer.zero_grad()\n",
    "\n",
    "    L_A = Loss_torch(A,v)\n",
    "    L_A.backward()\n",
    "\n",
    "    optimizer.step()\n",
    "    scheduler.step()\n",
    "\n",
    "    if step % 1000 == 0:\n",
    "        # print(f\"Step {step}, Loss: {L_A.item()}\")\n",
    "        A_List.append(A.detach().cpu().clone().numpy())"
   ]
  },
  {
   "cell_type": "code",
   "execution_count": null,
   "metadata": {
    "colab": {
     "base_uri": "https://localhost:8080/",
     "height": 795
    },
    "id": "nWaAPGd8qwye",
    "outputId": "04b9b17a-abf8-4041-dbcc-3ca2c4f28f9f"
   },
   "outputs": [],
   "source": [
    "A = A_List[-1]\n",
    "\n",
    "figure_asset(K, target)\n",
    "fig = figure_world(A)\n",
    "IPython.display.HTML(matplotlib.animation.FuncAnimation(fig, update, frames=200, interval=10).to_jshtml())"
   ]
  },
  {
   "cell_type": "code",
   "execution_count": null,
   "metadata": {
    "colab": {
     "base_uri": "https://localhost:8080/",
     "height": 404
    },
    "id": "ChDbxBErq7cD",
    "outputId": "21c665c3-70a1-4507-ef83-7813063a3cfe"
   },
   "outputs": [],
   "source": [
    "totalTime = 40\n",
    "totalFrame = T*totalTime\n",
    "\n",
    "A = A_List[-1]\n",
    "imgList = []\n",
    "imgList.append(A)\n",
    "for i in range(0,totalFrame):\n",
    "    update(i)\n",
    "    imgList.append(A)\n",
    "\n",
    "CMList_1 = []\n",
    "for i in range(0,len(imgList)):\n",
    "  CMList_1.append(ndimage.center_of_mass(imgList[i]))\n",
    "CMList_1 = np.array(CMList_1)\n",
    "\n",
    "fig = plt.figure(figsize=(8,4))\n",
    "fig.add_subplot(121)\n",
    "plt.imshow(imgList[0]+imgList[100])\n",
    "plt.plot(CMList_1[:100,1],CMList_1[:100,0],color='r')\n",
    "plt.axis('off')\n",
    "fig.add_subplot(122)\n",
    "plt.plot(CMList_1)"
   ]
  },
  {
   "cell_type": "markdown",
   "metadata": {
    "id": "DR3fdHdlroXt"
   },
   "source": [
    "## (b) Optimization of Bell function"
   ]
  },
  {
   "cell_type": "code",
   "execution_count": null,
   "metadata": {
    "id": "ceUHuc7mrjlw"
   },
   "outputs": [],
   "source": [
    "v_x = torch.tensor(6.0*resolution)\n",
    "v_y = torch.tensor(0.0)\n",
    "v = [v_x, v_y]\n",
    "\n",
    "m_target = torch.tensor(0.21)\n",
    "s_target = torch.tensor(0.018)\n",
    "\n",
    "center_x = Nx//2\n",
    "center_y = Ny//4\n",
    "sigma_gaussian = 15*resolution\n",
    "gaussian = torch.exp(-((xv - center_x)**2 + (yv - center_y)**2) / (2 * sigma_gaussian**2))\n",
    "A = t(gaussian)\n",
    "\n",
    "A.requires_grad_(True)\n",
    "m_target.requires_grad_(True)\n",
    "s_target.requires_grad_(True)\n",
    "\n",
    "optimizer = optim.Adam([\n",
    "        {\"params\": [A],   \"lr\": 1e-2},\n",
    "        {\"params\": [m_target], \"lr\": 1e-3},\n",
    "        {\"params\": [s_target], \"lr\": 1e-4}\n",
    "    ])\n",
    "scheduler = StepLR(optimizer, step_size=1000, gamma=0.5)\n",
    "\n",
    "num_steps = 5000\n",
    "\n",
    "A_List = []\n",
    "for step in range(num_steps+1):\n",
    "    optimizer.zero_grad()\n",
    "\n",
    "    L_A = Loss_torch_param(A,v,m_target,s_target)\n",
    "    L_A.backward()\n",
    "\n",
    "    optimizer.step()\n",
    "    scheduler.step()\n",
    "\n",
    "    if step % 1000 == 0:\n",
    "        # print(f\"Step {step}, Loss: {L_A.item()}\")\n",
    "        A_List.append(A.detach().cpu().clone().numpy())\n",
    "\n",
    "\n"
   ]
  },
  {
   "cell_type": "code",
   "execution_count": null,
   "metadata": {
    "colab": {
     "base_uri": "https://localhost:8080/",
     "height": 795
    },
    "id": "ADFc_nhish5K",
    "outputId": "a4b19c9e-659c-4188-8c37-f1398f482e53"
   },
   "outputs": [],
   "source": [
    "_m = m_target.detach().cpu().numpy()\n",
    "_s = s_target.detach().cpu().numpy()\n",
    "A = A_List[-1]\n",
    "\n",
    "figure_asset(K, target)\n",
    "fig = figure_world(A)\n",
    "IPython.display.HTML(matplotlib.animation.FuncAnimation(fig, update_param, frames=400, interval=10).to_jshtml())"
   ]
  },
  {
   "cell_type": "code",
   "execution_count": null,
   "metadata": {
    "colab": {
     "base_uri": "https://localhost:8080/",
     "height": 404
    },
    "id": "do1Po7f2sp4r",
    "outputId": "de4940f9-efca-4d21-c550-4c9e7f63afe7"
   },
   "outputs": [],
   "source": [
    "totalTime = 40\n",
    "totalFrame = T*totalTime\n",
    "\n",
    "_m = m_target.detach().cpu().numpy()\n",
    "_s = s_target.detach().cpu().numpy()\n",
    "A = A_List[-1]\n",
    "\n",
    "imgList = []\n",
    "imgList.append(A)\n",
    "for i in range(0,totalFrame):\n",
    "    update_param(i)\n",
    "    imgList.append(A)\n",
    "\n",
    "CMList_2 = []\n",
    "for i in range(0,len(imgList)):\n",
    "  CMList_2.append(ndimage.center_of_mass(imgList[i]))\n",
    "CMList_2 = np.array(CMList_2)\n",
    "\n",
    "fig = plt.figure(figsize=(8,4))\n",
    "fig.add_subplot(121)\n",
    "plt.imshow(imgList[0]+imgList[100])\n",
    "plt.plot(CMList_2[:100,1],CMList_2[:100,0],color='r')\n",
    "plt.axis('off')\n",
    "fig.add_subplot(122)\n",
    "plt.plot(CMList_2)"
   ]
  },
  {
   "cell_type": "markdown",
   "metadata": {
    "id": "_9CMYlO2uZVa"
   },
   "source": [
    "## (c) optimization of kernel function"
   ]
  },
  {
   "cell_type": "code",
   "execution_count": null,
   "metadata": {
    "id": "yFbD7ZXBuP31"
   },
   "outputs": [],
   "source": [
    "# v_x = torch.tensor(3.4*resolution)\n",
    "v_x = torch.tensor(6.0*resolution)\n",
    "v_y = torch.tensor(0.0)\n",
    "v = [v_x, v_y]\n",
    "\n",
    "m_target = torch.tensor(0.21)\n",
    "s_target = torch.tensor(0.018)\n",
    "\n",
    "b_kernel = torch.as_tensor(b.copy())\n",
    "\n",
    "center_x = Nx//2\n",
    "center_y = Ny//4\n",
    "sigma_gaussian = 15*resolution\n",
    "gaussian = torch.exp(-((xv - center_x)**2 + (yv - center_y)**2) / (2 * sigma_gaussian**2))\n",
    "A = t(gaussian)\n",
    "\n",
    "A.requires_grad_(True)\n",
    "m_target.requires_grad_(True)\n",
    "s_target.requires_grad_(True)\n",
    "b_kernel.requires_grad_(True)\n",
    "\n",
    "optimizer = optim.Adam([\n",
    "        {\"params\": [A],   \"lr\": 1e-2},\n",
    "        {\"params\": [m_target], \"lr\": 1e-3},\n",
    "        {\"params\": [s_target], \"lr\": 1e-4},\n",
    "        {\"params\": [b_kernel], \"lr\": 1e-2}\n",
    "    ])\n",
    "\n",
    "scheduler = StepLR(optimizer, step_size=1000, gamma=0.5)\n",
    "\n",
    "num_steps = 5000\n",
    "\n",
    "A_List = []\n",
    "for step in range(num_steps+1):\n",
    "    optimizer.zero_grad()\n",
    "    L_A = Loss_torch_param_all(A,v,m_target,s_target,b_kernel)\n",
    "    L_A.backward()\n",
    "\n",
    "    optimizer.step()\n",
    "    scheduler.step()\n",
    "\n",
    "    if step % 1000 == 0:\n",
    "        # print(f\"Step {step}, Loss: {L_A.item()}\")\n",
    "        A_List.append(A.detach().cpu().clone().numpy())\n"
   ]
  },
  {
   "cell_type": "code",
   "execution_count": null,
   "metadata": {
    "colab": {
     "base_uri": "https://localhost:8080/",
     "height": 795
    },
    "id": "tNE71-8NvbUQ",
    "outputId": "b877ca74-7ee7-4fc5-e37a-af5fcd0e4bf3"
   },
   "outputs": [],
   "source": [
    "_b_kernel = b_kernel.detach().cpu().numpy()\n",
    "D = np.linalg.norm(np.array(np.meshgrid(np.arange(-mid,mid), np.arange(-mid,mid))),axis=0)  / R * len(_b_kernel)\n",
    "K = (D<len(_b_kernel)) * _b_kernel[np.minimum(D.astype(int),len(_b_kernel)-1)] * bell(D % 1, 0.5, 0.15)\n",
    "_K=np.fft.ifftshift(K)\n",
    "fK_new = np.fft.fft2(_K / np.sum(_K))\n",
    "\n",
    "_m = m_target.detach().cpu().numpy()\n",
    "_s = s_target.detach().cpu().numpy()\n",
    "\n",
    "A = A_List[-1]\n",
    "\n",
    "figure_asset(K, target)\n",
    "fig = figure_world(A)\n",
    "IPython.display.HTML(matplotlib.animation.FuncAnimation(fig, update_param_all, frames=400, interval=10).to_jshtml())"
   ]
  },
  {
   "cell_type": "code",
   "execution_count": null,
   "metadata": {
    "colab": {
     "base_uri": "https://localhost:8080/",
     "height": 404
    },
    "id": "4vVBX8Zo2Di_",
    "outputId": "b5554240-9b96-4e44-e0da-6c0eca335db5"
   },
   "outputs": [],
   "source": [
    "totalTime = 40\n",
    "T = 10\n",
    "totalFrame = T*totalTime\n",
    "\n",
    "_b_kernel = b_kernel.detach().cpu().numpy()\n",
    "D = np.linalg.norm(np.array(np.meshgrid(np.arange(-mid,mid), np.arange(-mid,mid))),axis=0)  / R * len(_b_kernel)\n",
    "K = (D<len(_b_kernel)) * _b_kernel[np.minimum(D.astype(int),len(_b_kernel)-1)] * bell(D % 1, 0.5, 0.15)\n",
    "_K=np.fft.ifftshift(K)\n",
    "fK_new = np.fft.fft2(_K / np.sum(_K))\n",
    "\n",
    "_m = m_target.detach().cpu().numpy()\n",
    "_s = s_target.detach().cpu().numpy()\n",
    "\n",
    "A = A_List[-1]\n",
    "\n",
    "imgList = []\n",
    "imgList.append(A)\n",
    "for i in range(0,totalFrame):\n",
    "    update_param_all(i)\n",
    "    imgList.append(A)\n",
    "\n",
    "CMList_3 = []\n",
    "for i in range(0,len(imgList)):\n",
    "  CMList_3.append(ndimage.center_of_mass(imgList[i]))\n",
    "CMList_3 = np.array(CMList_3)\n",
    "\n",
    "fig = plt.figure(figsize=(8,4))\n",
    "fig.add_subplot(121)\n",
    "plt.imshow(imgList[0]+imgList[100])\n",
    "plt.plot(CMList_3[:100,1],CMList_3[:100,0],color='r')\n",
    "plt.axis('off')\n",
    "fig.add_subplot(122)\n",
    "plt.plot(CMList_3)"
   ]
  },
  {
   "cell_type": "markdown",
   "metadata": {
    "id": "MKC2UrGN904t"
   },
   "source": [
    "## Comparison of three trajectories\n"
   ]
  },
  {
   "cell_type": "code",
   "execution_count": null,
   "metadata": {
    "colab": {
     "base_uri": "https://localhost:8080/",
     "height": 406
    },
    "id": "z_rUKfVYl6we",
    "outputId": "045be1bb-06cd-4582-ca59-3476f1b63d58"
   },
   "outputs": [],
   "source": [
    "fig = plt.figure(figsize=(6,4))\n",
    "plt.plot(CMList_1[:100,1]-CMList_1[0,1], label='Patern Optimization')\n",
    "plt.plot(CMList_2[:100:,1]-CMList_2[0,1], label='+ Target function')\n",
    "plt.plot(CMList_3[:100,1]-CMList_3[0,1], label='+ Kernel function')\n",
    "plt.legend()\n",
    "plt.xlabel('Step')\n",
    "plt.ylabel('Position')\n"
   ]
  },
  {
   "cell_type": "markdown",
   "metadata": {
    "id": "6PIpnK4niHxF"
   },
   "source": [
    "# Fig.4 Search for Glider patterns"
   ]
  },
  {
   "cell_type": "code",
   "execution_count": null,
   "metadata": {
    "id": "sqHG-Vf_3iye"
   },
   "outputs": [],
   "source": [
    "# # This part will take much time\n",
    "# seed = 3407\n",
    "\n",
    "# np.random.seed(seed)\n",
    "# torch.manual_seed(seed)\n",
    "\n",
    "# ResultingPattern = []\n",
    "# paramList = []\n",
    "# for _velocity in [2.0,3.0,4.0,5.0,6.0,8.0,10.0]:\n",
    "#   v_x = torch.tensor(_velocity*resolution, device=DEVICE)\n",
    "#   v_y = torch.tensor(0.0, device=DEVICE)\n",
    "#   v = [v_x, v_y]\n",
    "#   print(_velocity)\n",
    "#   for _gaussianWidth in [9,12,15,18]:\n",
    "#     print(_gaussianWidth)\n",
    "#     for _outIdx in range(20):\n",
    "#       print(_outIdx)\n",
    "\n",
    "#       m_target = torch.tensor(0.21, device=DEVICE)\n",
    "#       s_target = torch.tensor(0.018, device=DEVICE)\n",
    "#       b_kernel = torch.rand(3, dtype=torch.float32,device=DEVICE)\n",
    "\n",
    "#       center_x = Nx//2\n",
    "#       center_y = Ny//2\n",
    "#       sigma_gaussian = _gaussianWidth*resolution\n",
    "#       gaussian = torch.exp(-((xv - center_x)**2 + (yv - center_y)**2) / (2 * sigma_gaussian**2))\n",
    "#       A = t(gaussian)\n",
    "\n",
    "#       A.requires_grad_(True)\n",
    "#       m_target.requires_grad_(True)\n",
    "#       s_target.requires_grad_(True)\n",
    "#       b_kernel.requires_grad_(True)\n",
    "\n",
    "#       A_List = []\n",
    "\n",
    "#       optimizer = optim.Adam([\n",
    "#           {\"params\": [A],   \"lr\": 1e-2},\n",
    "#           {\"params\": [m_target], \"lr\": 1e-3},\n",
    "#           {\"params\": [s_target], \"lr\": 1e-4},\n",
    "#           {\"params\": [b_kernel], \"lr\": 1e-2}\n",
    "#       ])\n",
    "#       scheduler = StepLR(optimizer, step_size=10, gamma=0.5)\n",
    "#       # scheduler = StepLR(optimizer, step_size=1000, gamma=0.5)\n",
    "#       num_steps = 5000\n",
    "\n",
    "#       for step in range(num_steps+1):\n",
    "#           optimizer.zero_grad()\n",
    "#           L_A = Loss_torch_param_all(A,v,m_target,s_target,b_kernel)\n",
    "#           L_A.backward()\n",
    "\n",
    "#           optimizer.step()\n",
    "\n",
    "#           if step % 100 == 0:\n",
    "#             scheduler.step()\n",
    "\n",
    "#       A_List.append(A.detach().cpu().clone().numpy())\n",
    "\n",
    "#       ResultingPattern.append(A_List[-1])\n",
    "#       __b_kernel = b_kernel.detach().cpu().clone().numpy()\n",
    "#       paramList.append([m_target.detach().cpu().clone().numpy(),s_target.detach().cpu().clone().numpy(),__b_kernel[0],__b_kernel[1],__b_kernel[2],_velocity,_gaussianWidth,L_A.item(),_outIdx])\n",
    "#       print(__b_kernel)\n",
    "#       print(L_A.item())\n",
    "# # np.save(dataDir+'paramList_fig4.npy',np.array(paramList))\n",
    "# # np.save(dataDir+'ResultingPattern_fig4.npy',np.array(ResultingPattern))"
   ]
  },
  {
   "cell_type": "code",
   "execution_count": null,
   "metadata": {
    "id": "t5tHTarHsrkc"
   },
   "outputs": [],
   "source": [
    "# totalTime = 100\n",
    "# totalFrame = T*totalTime\n",
    "\n",
    "# LastImage = []\n",
    "# for _index in range(0,len(paramList)):\n",
    "#   _b_kernel = np.array(paramList[_index][2:5])\n",
    "#   D = np.linalg.norm(np.array(np.meshgrid(np.arange(-mid,mid), np.arange(-mid,mid))),axis=0)  / R * len(_b_kernel)\n",
    "#   K = (D<len(_b_kernel)) * _b_kernel[np.minimum(D.astype(int),len(_b_kernel)-1)] * bell(D % 1, 0.5, 0.15)\n",
    "#   _K=np.fft.ifftshift(K)\n",
    "#   fK_new = np.fft.fft2(_K / np.sum(_K))\n",
    "\n",
    "#   _m = paramList[_index][0]\n",
    "#   _s = paramList[_index][1]\n",
    "\n",
    "#   A = ResultingPattern[_index]\n",
    "#   for i in range(0,totalFrame):\n",
    "#       update_param_all(i)\n",
    "#   LastImage.append(A)\n",
    "# LastImage = np.array(LastImage)\n",
    "# # np.save(dataDir+'LastImage_fig4.npy',LastImage)"
   ]
  },
  {
   "cell_type": "code",
   "execution_count": null,
   "metadata": {
    "id": "pRWCzx3r5XYU"
   },
   "outputs": [],
   "source": [
    "# Load the previously searched patterns (if you have)\n",
    "paramList = np.load(dataDir+'paramList_fig4.npy')\n",
    "ResultingPattern = np.load(dataDir+'ResultingPattern_fig4.npy')\n",
    "LastImage = np.load(dataDir+'LastImage_fig4.npy')"
   ]
  },
  {
   "cell_type": "code",
   "execution_count": null,
   "metadata": {
    "colab": {
     "base_uri": "https://localhost:8080/",
     "height": 419
    },
    "id": "pBD7AlLyrIOj",
    "outputId": "23cbad9f-9d51-4357-e3be-03c54651fa4d"
   },
   "outputs": [],
   "source": [
    "_nonZero = LastImage.sum(axis=(1,2))>0.1\n",
    "\n",
    "fig = plt.figure(figsize=(10,4))\n",
    "\n",
    "_velocity = 3.0\n",
    "_gaussianWidth = 15\n",
    "_param = paramList[(paramList[:,6]==_gaussianWidth) & (paramList[:,5]==_velocity)&_nonZero]\n",
    "_pattern = ResultingPattern[(paramList[:,6]==_gaussianWidth) & (paramList[:,5]==_velocity)&_nonZero]\n",
    "_pattern_last = LastImage[(paramList[:,6]==_gaussianWidth) & (paramList[:,5]==_velocity)&_nonZero]\n",
    "\n",
    "\n",
    "_idx = np.argsort(_param[:,7])\n",
    "\n",
    "for i in range(0,5):\n",
    "  fig.add_subplot(2,5,i+1)\n",
    "  if i==0:\n",
    "    plt.ylabel(\"Obtained Pattern\")\n",
    "  plt.imshow(_pattern[_idx[i]],clim=(0,1))\n",
    "  ax = plt.gca()\n",
    "  ax.set_xticks([])\n",
    "  ax.set_yticks([])\n",
    "fig.suptitle(\"velocity = {:.1f}, gaussianWidth = {}\".format(_velocity,_gaussianWidth))\n",
    "\n",
    "for i in range(0,5):\n",
    "  fig.add_subplot(2,5,i+6)\n",
    "  if i==0:\n",
    "    plt.ylabel(\"After 100 steps\")\n",
    "  plt.imshow(_pattern_last[_idx[i]],clim=(0,1))\n",
    "  # plt.axis('off')\n",
    "  plt.xlabel(\"Loss:{:.1e}\".format(_param[_idx[i],7]))\n",
    "  ax = plt.gca()\n",
    "  ax.set_xticks([])\n",
    "  ax.set_yticks([])\n",
    "fig.suptitle(\"velocity = {:.1f}, gaussianWidth = {}\".format(_velocity,_gaussianWidth))\n"
   ]
  },
  {
   "cell_type": "code",
   "execution_count": null,
   "metadata": {
    "colab": {
     "base_uri": "https://localhost:8080/",
     "height": 419
    },
    "id": "rai2fzKF2ar8",
    "outputId": "c0b77cc2-cba0-4a2f-a379-546cedad47a7"
   },
   "outputs": [],
   "source": [
    "_nonZero = LastImage.sum(axis=(1,2))>0.1\n",
    "\n",
    "fig = plt.figure(figsize=(10,4))\n",
    "\n",
    "_velocity = 4.0\n",
    "_gaussianWidth = 15\n",
    "_param = paramList[(paramList[:,6]==_gaussianWidth) & (paramList[:,5]==_velocity)&_nonZero]\n",
    "_pattern = ResultingPattern[(paramList[:,6]==_gaussianWidth) & (paramList[:,5]==_velocity)&_nonZero]\n",
    "_pattern_last = LastImage[(paramList[:,6]==_gaussianWidth) & (paramList[:,5]==_velocity)&_nonZero]\n",
    "\n",
    "\n",
    "_idx = np.argsort(_param[:,7])\n",
    "\n",
    "for i in range(0,5):\n",
    "  fig.add_subplot(2,5,i+1)\n",
    "  if i==0:\n",
    "    plt.ylabel(\"Obtained Pattern\")\n",
    "  plt.imshow(_pattern[_idx[i]],clim=(0,1))\n",
    "  ax = plt.gca()\n",
    "  ax.set_xticks([])\n",
    "  ax.set_yticks([])\n",
    "fig.suptitle(\"velocity = {:.1f}, gaussianWidth = {}\".format(_velocity,_gaussianWidth))\n",
    "\n",
    "for i in range(0,5):\n",
    "  fig.add_subplot(2,5,i+6)\n",
    "  if i==0:\n",
    "    plt.ylabel(\"After 100 steps\")\n",
    "  plt.imshow(_pattern_last[_idx[i]],clim=(0,1))\n",
    "  # plt.axis('off')\n",
    "  plt.xlabel(\"Loss:{:.1e}\".format(_param[_idx[i],7]))\n",
    "  ax = plt.gca()\n",
    "  ax.set_xticks([])\n",
    "  ax.set_yticks([])\n",
    "fig.suptitle(\"velocity = {:.1f}, gaussianWidth = {}\".format(_velocity,_gaussianWidth))\n"
   ]
  },
  {
   "cell_type": "code",
   "execution_count": null,
   "metadata": {
    "colab": {
     "base_uri": "https://localhost:8080/",
     "height": 35
    },
    "id": "gBc13zeBtnBs",
    "outputId": "ae9283db-f904-4ea5-9a1f-4869c57ed1d8"
   },
   "outputs": [],
   "source": [
    "# # Save the images of generated patterns\n",
    "# fig = plt.figure(figsize=(10,8))\n",
    "\n",
    "# for _velocity in [2.0,3.0,4.0,5.0,6.0,8.0,10.0]:\n",
    "#   for _gaussianWidth in [9,12,15,18]:\n",
    "#     _param = paramList[(paramList[:,6]==_gaussianWidth) & (paramList[:,5]==_velocity)]\n",
    "#     _pattern = np.array(ResultingPattern)[(paramList[:,6]==_gaussianWidth) & (paramList[:,5]==_velocity)]\n",
    "#     _idx = np.argsort(_param[:,7])\n",
    "\n",
    "#     for i in range(0,20):\n",
    "#       fig.add_subplot(4,5,i+1)\n",
    "#       plt.imshow(_pattern[_idx[i]],clim=(0,1))\n",
    "#       plt.axis('off')\n",
    "#       plt.title(\"Loss:{:.1e}\".format(_param[_idx[i],7]))\n",
    "#     fig.suptitle(\"velocity = {:.1f}, gaussianWidth = {}\".format(_velocity,_gaussianWidth))\n",
    "#     fig.savefig(dataDir+\"Fig_2/Patterns_velocity_{:.1f}_gaussianWidth_{}.png\".format(_velocity,_gaussianWidth))\n",
    "#     fig.clf()\n",
    "\n",
    "# _velIdx = -1\n",
    "# for _velocity in [2.0,3.0,4.0,5.0,6.0,8.0,10.0]:\n",
    "#   _velIdx = _velIdx + 1\n",
    "#   _widthIdx = -1\n",
    "#   for _gaussianWidth in [9,12,15,18]:\n",
    "#     _widthIdx = _widthIdx + 1\n",
    "#     _param = paramList[(paramList[:,6]==_gaussianWidth) & (paramList[:,5]==_velocity)]\n",
    "#     _pattern = LastImage[(paramList[:,6]==_gaussianWidth) & (paramList[:,5]==_velocity)]\n",
    "#     _idx = np.argsort(_param[:,7])\n",
    "\n",
    "#     for i in range(0,20):\n",
    "#       fig.add_subplot(4,5,i+1)\n",
    "#       plt.imshow(_pattern[_idx[i]],clim=(0,1))\n",
    "#       plt.axis('off')\n",
    "#       plt.title(\"{:.1e}, {}\".format(_param[_idx[i],7],_idx[i]+20*(_velIdx*4+_widthIdx)))\n",
    "#     fig.suptitle(\"velocity = {:.1f}, gaussianWidth = {}\".format(_velocity,_gaussianWidth))\n",
    "#     fig.savefig(dataDir+\"Fig_2/ConvergedPatterns_velocity_{:.1f}_gaussianWidth_{}_250508_2.png\".format(_velocity,_gaussianWidth))\n",
    "#     fig.clf()"
   ]
  },
  {
   "cell_type": "markdown",
   "metadata": {
    "id": "610FNY6zcL91"
   },
   "source": [
    "## Example videos of several obtained patterns"
   ]
  },
  {
   "cell_type": "markdown",
   "metadata": {
    "id": "GmZtAEKJPIT3"
   },
   "source": [
    "### Obtained from v=3.0 & gaussianWidth = 15"
   ]
  },
  {
   "cell_type": "code",
   "execution_count": null,
   "metadata": {
    "colab": {
     "base_uri": "https://localhost:8080/",
     "height": 0
    },
    "id": "4DpKgQcwQUPh",
    "outputId": "df9d9136-4b84-44a4-92b1-c10abfeb7d99"
   },
   "outputs": [],
   "source": [
    "_index = 135\n",
    "\n",
    "_b_kernel = np.array(paramList[_index][2:5])\n",
    "D = np.linalg.norm(np.array(np.meshgrid(np.arange(-mid,mid), np.arange(-mid,mid))),axis=0)  / R * len(_b_kernel)\n",
    "K = (D<len(_b_kernel)) * _b_kernel[np.minimum(D.astype(int),len(_b_kernel)-1)] * bell(D % 1, 0.5, 0.15)\n",
    "_K=np.fft.ifftshift(K)\n",
    "fK_new = np.fft.fft2(_K / np.sum(_K))\n",
    "\n",
    "_m = paramList[_index][0]\n",
    "_s = paramList[_index][1]\n",
    "\n",
    "A = ResultingPattern[_index]\n",
    "\n",
    "\n",
    "figure_asset(K, target)\n",
    "fig = figure_world(A)\n",
    "IPython.display.HTML(matplotlib.animation.FuncAnimation(fig, update_param_all, frames=400, interval=10).to_jshtml())\n",
    "\n"
   ]
  },
  {
   "cell_type": "code",
   "execution_count": null,
   "metadata": {
    "colab": {
     "base_uri": "https://localhost:8080/",
     "height": 0
    },
    "id": "uZpEO4qpHP-7",
    "outputId": "ae02ecd9-169e-4ef5-c1f0-a514e4a47288"
   },
   "outputs": [],
   "source": [
    "_index = 124\n",
    "\n",
    "_b_kernel = np.array(paramList[_index][2:5])\n",
    "D = np.linalg.norm(np.array(np.meshgrid(np.arange(-mid,mid), np.arange(-mid,mid))),axis=0)  / R * len(_b_kernel)\n",
    "K = (D<len(_b_kernel)) * _b_kernel[np.minimum(D.astype(int),len(_b_kernel)-1)] * bell(D % 1, 0.5, 0.15)\n",
    "_K=np.fft.ifftshift(K)\n",
    "fK_new = np.fft.fft2(_K / np.sum(_K))\n",
    "\n",
    "_m = paramList[_index][0]\n",
    "_s = paramList[_index][1]\n",
    "\n",
    "A = ResultingPattern[_index]\n",
    "\n",
    "\n",
    "figure_asset(K, target)\n",
    "fig = figure_world(A)\n",
    "IPython.display.HTML(matplotlib.animation.FuncAnimation(fig, update_param_all, frames=400, interval=10).to_jshtml())\n",
    "\n"
   ]
  },
  {
   "cell_type": "code",
   "execution_count": null,
   "metadata": {
    "colab": {
     "base_uri": "https://localhost:8080/",
     "height": 0
    },
    "id": "4zB7sjrcQXTS",
    "outputId": "f6ea338d-ebd0-47b5-ecdf-59b9e8a77c15"
   },
   "outputs": [],
   "source": [
    "_index = 132\n",
    "\n",
    "_b_kernel = np.array(paramList[_index][2:5])\n",
    "D = np.linalg.norm(np.array(np.meshgrid(np.arange(-mid,mid), np.arange(-mid,mid))),axis=0)  / R * len(_b_kernel)\n",
    "K = (D<len(_b_kernel)) * _b_kernel[np.minimum(D.astype(int),len(_b_kernel)-1)] * bell(D % 1, 0.5, 0.15)\n",
    "_K=np.fft.ifftshift(K)\n",
    "fK_new = np.fft.fft2(_K / np.sum(_K))\n",
    "\n",
    "_m = paramList[_index][0]\n",
    "_s = paramList[_index][1]\n",
    "\n",
    "A = ResultingPattern[_index]\n",
    "\n",
    "\n",
    "figure_asset(K, target)\n",
    "fig = figure_world(A)\n",
    "IPython.display.HTML(matplotlib.animation.FuncAnimation(fig, update_param_all, frames=400, interval=10).to_jshtml())\n",
    "\n"
   ]
  },
  {
   "cell_type": "code",
   "execution_count": null,
   "metadata": {
    "colab": {
     "base_uri": "https://localhost:8080/",
     "height": 0
    },
    "id": "ZeZ02aW6HVNj",
    "outputId": "8a081210-980c-4b0d-8eb9-f5258bf5c385"
   },
   "outputs": [],
   "source": [
    "_index = 128\n",
    "\n",
    "_b_kernel = np.array(paramList[_index][2:5])\n",
    "D = np.linalg.norm(np.array(np.meshgrid(np.arange(-mid,mid), np.arange(-mid,mid))),axis=0)  / R * len(_b_kernel)\n",
    "K = (D<len(_b_kernel)) * _b_kernel[np.minimum(D.astype(int),len(_b_kernel)-1)] * bell(D % 1, 0.5, 0.15)\n",
    "_K=np.fft.ifftshift(K)\n",
    "fK_new = np.fft.fft2(_K / np.sum(_K))\n",
    "\n",
    "_m = paramList[_index][0]\n",
    "_s = paramList[_index][1]\n",
    "\n",
    "A = ResultingPattern[_index]\n",
    "\n",
    "\n",
    "figure_asset(K, target)\n",
    "fig = figure_world(A)\n",
    "IPython.display.HTML(matplotlib.animation.FuncAnimation(fig, update_param_all, frames=400, interval=10).to_jshtml())\n",
    "\n"
   ]
  },
  {
   "cell_type": "code",
   "execution_count": null,
   "metadata": {
    "colab": {
     "base_uri": "https://localhost:8080/",
     "height": 0
    },
    "id": "5Hu26sAjQi-L",
    "outputId": "a039b572-3f6a-4564-aeaa-bcba0aea2608"
   },
   "outputs": [],
   "source": [
    "_index = 133\n",
    "\n",
    "_b_kernel = np.array(paramList[_index][2:5])\n",
    "D = np.linalg.norm(np.array(np.meshgrid(np.arange(-mid,mid), np.arange(-mid,mid))),axis=0)  / R * len(_b_kernel)\n",
    "K = (D<len(_b_kernel)) * _b_kernel[np.minimum(D.astype(int),len(_b_kernel)-1)] * bell(D % 1, 0.5, 0.15)\n",
    "_K=np.fft.ifftshift(K)\n",
    "fK_new = np.fft.fft2(_K / np.sum(_K))\n",
    "\n",
    "_m = paramList[_index][0]\n",
    "_s = paramList[_index][1]\n",
    "\n",
    "A = ResultingPattern[_index]\n",
    "\n",
    "\n",
    "figure_asset(K, target)\n",
    "fig = figure_world(A)\n",
    "IPython.display.HTML(matplotlib.animation.FuncAnimation(fig, update_param_all, frames=400, interval=10).to_jshtml())\n",
    "\n"
   ]
  },
  {
   "cell_type": "markdown",
   "metadata": {
    "id": "_AW2IlRvQ6FH"
   },
   "source": [
    "### Obtained from v=4.0 & gaussianWidth = 15"
   ]
  },
  {
   "cell_type": "code",
   "execution_count": null,
   "metadata": {
    "colab": {
     "base_uri": "https://localhost:8080/",
     "height": 0
    },
    "id": "Dd-8gQklZYY8",
    "outputId": "849d35bc-afc4-4ef7-c307-3cdf0f3262e9"
   },
   "outputs": [],
   "source": [
    "_index = 203\n",
    "\n",
    "_b_kernel = np.array(paramList[_index][2:5])\n",
    "D = np.linalg.norm(np.array(np.meshgrid(np.arange(-mid,mid), np.arange(-mid,mid))),axis=0)  / R * len(_b_kernel)\n",
    "K = (D<len(_b_kernel)) * _b_kernel[np.minimum(D.astype(int),len(_b_kernel)-1)] * bell(D % 1, 0.5, 0.15)\n",
    "_K=np.fft.ifftshift(K)\n",
    "fK_new = np.fft.fft2(_K / np.sum(_K))\n",
    "\n",
    "_m = paramList[_index][0]\n",
    "_s = paramList[_index][1]\n",
    "\n",
    "A = ResultingPattern[_index]\n",
    "\n",
    "\n",
    "figure_asset(K, target)\n",
    "fig = figure_world(A)\n",
    "IPython.display.HTML(matplotlib.animation.FuncAnimation(fig, update_param_all, frames=400, interval=10).to_jshtml())\n",
    "\n"
   ]
  },
  {
   "cell_type": "code",
   "execution_count": null,
   "metadata": {
    "colab": {
     "base_uri": "https://localhost:8080/",
     "height": 0
    },
    "id": "iQcxJ6nWLiwZ",
    "outputId": "6fa50ab9-d484-4212-870e-4b9e73bff890"
   },
   "outputs": [],
   "source": [
    "_index = 202\n",
    "\n",
    "_b_kernel = np.array(paramList[_index][2:5])\n",
    "D = np.linalg.norm(np.array(np.meshgrid(np.arange(-mid,mid), np.arange(-mid,mid))),axis=0)  / R * len(_b_kernel)\n",
    "K = (D<len(_b_kernel)) * _b_kernel[np.minimum(D.astype(int),len(_b_kernel)-1)] * bell(D % 1, 0.5, 0.15)\n",
    "_K=np.fft.ifftshift(K)\n",
    "fK_new = np.fft.fft2(_K / np.sum(_K))\n",
    "\n",
    "_m = paramList[_index][0]\n",
    "_s = paramList[_index][1]\n",
    "\n",
    "A = ResultingPattern[_index]\n",
    "\n",
    "\n",
    "figure_asset(K, target)\n",
    "fig = figure_world(A)\n",
    "IPython.display.HTML(matplotlib.animation.FuncAnimation(fig, update_param_all, frames=400, interval=10).to_jshtml())\n",
    "\n"
   ]
  },
  {
   "cell_type": "code",
   "execution_count": null,
   "metadata": {
    "colab": {
     "base_uri": "https://localhost:8080/",
     "height": 0
    },
    "id": "6iOS6Y7HZce5",
    "outputId": "c514e9fd-7eb5-444a-bfa4-245af60ecea3"
   },
   "outputs": [],
   "source": [
    "_index = 209\n",
    "\n",
    "_b_kernel = np.array(paramList[_index][2:5])\n",
    "D = np.linalg.norm(np.array(np.meshgrid(np.arange(-mid,mid), np.arange(-mid,mid))),axis=0)  / R * len(_b_kernel)\n",
    "K = (D<len(_b_kernel)) * _b_kernel[np.minimum(D.astype(int),len(_b_kernel)-1)] * bell(D % 1, 0.5, 0.15)\n",
    "_K=np.fft.ifftshift(K)\n",
    "fK_new = np.fft.fft2(_K / np.sum(_K))\n",
    "\n",
    "_m = paramList[_index][0]\n",
    "_s = paramList[_index][1]\n",
    "\n",
    "A = ResultingPattern[_index]\n",
    "\n",
    "\n",
    "figure_asset(K, target)\n",
    "fig = figure_world(A)\n",
    "IPython.display.HTML(matplotlib.animation.FuncAnimation(fig, update_param_all, frames=400, interval=10).to_jshtml())\n",
    "\n"
   ]
  },
  {
   "cell_type": "code",
   "execution_count": null,
   "metadata": {
    "colab": {
     "base_uri": "https://localhost:8080/",
     "height": 0
    },
    "id": "0O8pQMbTZgXV",
    "outputId": "bd7dd24a-e8ef-4cef-cfce-bee5470cafb7"
   },
   "outputs": [],
   "source": [
    "_index = 212\n",
    "\n",
    "_b_kernel = np.array(paramList[_index][2:5])\n",
    "D = np.linalg.norm(np.array(np.meshgrid(np.arange(-mid,mid), np.arange(-mid,mid))),axis=0)  / R * len(_b_kernel)\n",
    "K = (D<len(_b_kernel)) * _b_kernel[np.minimum(D.astype(int),len(_b_kernel)-1)] * bell(D % 1, 0.5, 0.15)\n",
    "_K=np.fft.ifftshift(K)\n",
    "fK_new = np.fft.fft2(_K / np.sum(_K))\n",
    "\n",
    "_m = paramList[_index][0]\n",
    "_s = paramList[_index][1]\n",
    "\n",
    "A = ResultingPattern[_index]\n",
    "\n",
    "\n",
    "figure_asset(K, target)\n",
    "fig = figure_world(A)\n",
    "IPython.display.HTML(matplotlib.animation.FuncAnimation(fig, update_param_all, frames=400, interval=10).to_jshtml())\n",
    "\n"
   ]
  },
  {
   "cell_type": "code",
   "execution_count": null,
   "metadata": {
    "colab": {
     "base_uri": "https://localhost:8080/",
     "height": 0
    },
    "id": "G71FRnMHZjLE",
    "outputId": "d8bda2dc-5a36-457e-c505-6f3aec567804"
   },
   "outputs": [],
   "source": [
    "_index = 219\n",
    "\n",
    "_b_kernel = np.array(paramList[_index][2:5])\n",
    "D = np.linalg.norm(np.array(np.meshgrid(np.arange(-mid,mid), np.arange(-mid,mid))),axis=0)  / R * len(_b_kernel)\n",
    "K = (D<len(_b_kernel)) * _b_kernel[np.minimum(D.astype(int),len(_b_kernel)-1)] * bell(D % 1, 0.5, 0.15)\n",
    "_K=np.fft.ifftshift(K)\n",
    "fK_new = np.fft.fft2(_K / np.sum(_K))\n",
    "\n",
    "_m = paramList[_index][0]\n",
    "_s = paramList[_index][1]\n",
    "\n",
    "A = ResultingPattern[_index]\n",
    "\n",
    "\n",
    "figure_asset(K, target)\n",
    "fig = figure_world(A)\n",
    "IPython.display.HTML(matplotlib.animation.FuncAnimation(fig, update_param_all, frames=400, interval=10).to_jshtml())\n",
    "\n"
   ]
  },
  {
   "cell_type": "markdown",
   "metadata": {
    "id": "lFyQXdDNZlLc"
   },
   "source": [
    "### Other patterns"
   ]
  },
  {
   "cell_type": "code",
   "execution_count": null,
   "metadata": {
    "colab": {
     "base_uri": "https://localhost:8080/",
     "height": 795
    },
    "id": "R_rKletsKi3W",
    "outputId": "8e19a0a5-2cc5-448f-acdb-ec50ee9ba97f"
   },
   "outputs": [],
   "source": [
    "_index = 509\n",
    "\n",
    "_b_kernel = np.array(paramList[_index][2:5])\n",
    "D = np.linalg.norm(np.array(np.meshgrid(np.arange(-mid,mid), np.arange(-mid,mid))),axis=0)  / R * len(_b_kernel)\n",
    "K = (D<len(_b_kernel)) * _b_kernel[np.minimum(D.astype(int),len(_b_kernel)-1)] * bell(D % 1, 0.5, 0.15)\n",
    "_K=np.fft.ifftshift(K)\n",
    "fK_new = np.fft.fft2(_K / np.sum(_K))\n",
    "\n",
    "_m = paramList[_index][0]\n",
    "_s = paramList[_index][1]\n",
    "\n",
    "A = ResultingPattern[_index]\n",
    "\n",
    "\n",
    "figure_asset(K, target)\n",
    "fig = figure_world(A)\n",
    "IPython.display.HTML(matplotlib.animation.FuncAnimation(fig, update_param_all, frames=400, interval=10).to_jshtml())\n",
    "\n"
   ]
  },
  {
   "cell_type": "code",
   "execution_count": null,
   "metadata": {
    "colab": {
     "base_uri": "https://localhost:8080/",
     "height": 795
    },
    "id": "64S4bn09FRi0",
    "outputId": "efc506cb-d71d-4f99-a8aa-8d7f9a2a6908"
   },
   "outputs": [],
   "source": [
    "_index = 181\n",
    "\n",
    "_b_kernel = np.array(paramList[_index][2:5])\n",
    "D = np.linalg.norm(np.array(np.meshgrid(np.arange(-mid,mid), np.arange(-mid,mid))),axis=0)  / R * len(_b_kernel)\n",
    "K = (D<len(_b_kernel)) * _b_kernel[np.minimum(D.astype(int),len(_b_kernel)-1)] * bell(D % 1, 0.5, 0.15)\n",
    "_K=np.fft.ifftshift(K)\n",
    "fK_new = np.fft.fft2(_K / np.sum(_K))\n",
    "\n",
    "_m = paramList[_index][0]\n",
    "_s = paramList[_index][1]\n",
    "\n",
    "A = ResultingPattern[_index]\n",
    "\n",
    "\n",
    "figure_asset(K, target)\n",
    "fig = figure_world(A)\n",
    "IPython.display.HTML(matplotlib.animation.FuncAnimation(fig, update_param_all, frames=200, interval=10).to_jshtml())\n",
    "\n"
   ]
  },
  {
   "cell_type": "code",
   "execution_count": null,
   "metadata": {
    "colab": {
     "base_uri": "https://localhost:8080/",
     "height": 795
    },
    "id": "06q7O5ktFRki",
    "outputId": "a03e7593-1996-4ca9-bf08-d557ce39325d"
   },
   "outputs": [],
   "source": [
    "_index = 292\n",
    "\n",
    "_b_kernel = np.array(paramList[_index][2:5])\n",
    "D = np.linalg.norm(np.array(np.meshgrid(np.arange(-mid,mid), np.arange(-mid,mid))),axis=0)  / R * len(_b_kernel)\n",
    "K = (D<len(_b_kernel)) * _b_kernel[np.minimum(D.astype(int),len(_b_kernel)-1)] * bell(D % 1, 0.5, 0.15)\n",
    "_K=np.fft.ifftshift(K)\n",
    "fK_new = np.fft.fft2(_K / np.sum(_K))\n",
    "\n",
    "_m = paramList[_index][0]\n",
    "_s = paramList[_index][1]\n",
    "\n",
    "A = ResultingPattern[_index]\n",
    "\n",
    "\n",
    "figure_asset(K, target)\n",
    "fig = figure_world(A)\n",
    "IPython.display.HTML(matplotlib.animation.FuncAnimation(fig, update_param_all, frames=500, interval=10).to_jshtml())\n",
    "\n"
   ]
  },
  {
   "cell_type": "markdown",
   "metadata": {
    "id": "WAdtmrjz7AqQ"
   },
   "source": [
    "# Fig.5 : Estimation of the velocity of the glider only from the single image"
   ]
  },
  {
   "cell_type": "code",
   "execution_count": null,
   "metadata": {
    "colab": {
     "base_uri": "https://localhost:8080/",
     "height": 485
    },
    "id": "SdAnAxwEL_L0",
    "outputId": "f19fab26-01da-4714-f2e7-2e9a7b2b5b74"
   },
   "outputs": [],
   "source": [
    "m_target = torch.tensor(0.21)\n",
    "s_target = torch.tensor(0.018)\n",
    "b_kernel = torch.as_tensor(b.copy())\n",
    "\n",
    "fig = plt.figure(figsize=(10,3))\n",
    "\n",
    "fig.add_subplot(131)\n",
    "center_x = Nx//2\n",
    "center_y = Ny//2\n",
    "sigma_gaussian = 15*resolution\n",
    "gaussian = torch.exp(-((xv - center_x)**2 + (yv - center_y)**2) / (2 * sigma_gaussian**2))\n",
    "plt.imshow(gaussian.detach().cpu().numpy())\n",
    "ax = plt.gca()\n",
    "ax.set_xticks([])\n",
    "ax.set_yticks([])\n",
    "\n",
    "_v = velocity_torch_param_all(t(gaussian),m_target,s_target,b_kernel)[0]\n",
    "_fitness = fitness_torch_param_all_biased(t(gaussian),m_target,s_target,b_kernel,0,0)\n",
    "plt.title('Gaussian')\n",
    "plt.xlabel('v = {:.2f}, fitness ={:.2f}'.format(abs(_v),_fitness))\n",
    "\n",
    "fig.add_subplot(132)\n",
    "plt.imshow(LastImage_glider)\n",
    "ax = plt.gca()\n",
    "ax.set_xticks([])\n",
    "ax.set_yticks([])\n",
    "_v = velocity_torch_param_all(torch.as_tensor(LastImage_glider,device=DEVICE),m_target,s_target,b_kernel)[0]\n",
    "_fitness = fitness_torch_param_all_biased(torch.as_tensor(LastImage_glider,device=DEVICE),m_target,s_target,b_kernel,0,0)\n",
    "\n",
    "plt.title('Glider')\n",
    "plt.xlabel('v = {:.2f}, fitness ={:.2f}'.format(abs(_v),_fitness))\n",
    "\n",
    "\n",
    "fig.add_subplot(133)\n",
    "plt.imshow(LastImage_expand)\n",
    "ax = plt.gca()\n",
    "ax.set_xticks([])\n",
    "ax.set_yticks([])\n",
    "_v = velocity_torch_param_all(torch.as_tensor(LastImage_expand,device=DEVICE),m_target,s_target,b_kernel)[0]\n",
    "_fitness = fitness_torch_param_all_biased(torch.as_tensor(LastImage_expand,device=DEVICE),m_target,s_target,b_kernel,0,0)\n",
    "plt.title('Stationary Pattern')\n",
    "plt.xlabel('v = {:.2f}, fitness ={:.2f}'.format(abs(_v),_fitness))\n"
   ]
  },
  {
   "cell_type": "markdown",
   "metadata": {
    "id": "UmFEPSgv0ybD"
   },
   "source": [
    "# Fig.6 : Gradient descent on the \"velocity-free\" fitness function"
   ]
  },
  {
   "cell_type": "code",
   "execution_count": null,
   "metadata": {
    "id": "Bi_TfLR07asK"
   },
   "outputs": [],
   "source": [
    "seed = 29\n",
    "\n",
    "np.random.seed(seed)\n",
    "torch.manual_seed(seed)\n",
    "\n",
    "m_target = torch.tensor(0.21)\n",
    "s_target = torch.tensor(0.018)\n",
    "b_kernel = torch.rand(3, dtype=torch.float32,device=DEVICE)\n",
    "\n",
    "center_x = Nx//2\n",
    "center_y = Ny//2\n",
    "sigma_gaussian = 15*resolution\n",
    "gaussian = torch.exp(-((xv - center_x)**2 + (yv - center_y)**2) / (2 * sigma_gaussian**2))\n",
    "A = t(gaussian)\n",
    "\n",
    "A.requires_grad_(True)\n",
    "m_target.requires_grad_(True)\n",
    "s_target.requires_grad_(True)\n",
    "b_kernel.requires_grad_(True)\n",
    "\n",
    "num_steps = 5000\n",
    "\n",
    "optimizer = optim.Adam([\n",
    "        {\"params\": [A],   \"lr\": 1e-2},\n",
    "        {\"params\": [m_target], \"lr\": 1e-3},\n",
    "        {\"params\": [s_target], \"lr\": 1e-4},\n",
    "        {\"params\": [b_kernel], \"lr\": 1e-2}\n",
    "    ])\n",
    "scheduler = StepLR(optimizer, step_size=1000, gamma=0.5)\n",
    "\n",
    "\n",
    "A_List = []\n",
    "paramList = []\n",
    "for step in range(num_steps+1):\n",
    "    optimizer.zero_grad()\n",
    "    L_A = fitness_torch_param_all_biased(A,m_target,s_target,b_kernel,_lambda = 1.0,_sigma=0.1)\n",
    "    L_A.backward()\n",
    "\n",
    "    optimizer.step()\n",
    "    scheduler.step()\n",
    "\n",
    "    if step % 1000 == 0:\n",
    "      print(f\"Step {step}, Loss: {L_A.item()}\")\n",
    "\n",
    "A_List.append(A.detach().cpu().clone().numpy())\n",
    "paramList.append([m_target.detach().cpu().clone().numpy(),s_target.detach().cpu().clone().numpy(),b_kernel.detach().cpu().clone().numpy()])\n",
    "\n"
   ]
  },
  {
   "cell_type": "code",
   "execution_count": null,
   "metadata": {
    "id": "gA7dnRoWwSq2"
   },
   "outputs": [],
   "source": [
    "plt.imshow(A_List[-1])"
   ]
  },
  {
   "cell_type": "markdown",
   "metadata": {
    "id": "3wqqcay2aBBQ"
   },
   "source": [
    "## Generated Examples"
   ]
  },
  {
   "cell_type": "code",
   "execution_count": null,
   "metadata": {
    "colab": {
     "base_uri": "https://localhost:8080/",
     "height": 795
    },
    "id": "g3UmOyFZxOyO",
    "outputId": "fb8203e9-fc01-4db1-8ca1-0b470aeec819"
   },
   "outputs": [],
   "source": [
    "# Generated example (seed = 29)\n",
    "_index = -1\n",
    "\n",
    "_b_kernel = paramList[_index][2]\n",
    "D = np.linalg.norm(np.array(np.meshgrid(np.arange(-mid,mid), np.arange(-mid,mid))),axis=0)  / R * len(_b_kernel)\n",
    "K = (D<len(_b_kernel)) * _b_kernel[np.minimum(D.astype(int),len(_b_kernel)-1)] * bell(D % 1, 0.5, 0.15)\n",
    "_K=np.fft.ifftshift(K)\n",
    "fK_new = np.fft.fft2(_K / np.sum(_K))\n",
    "\n",
    "_m = paramList[_index][0]\n",
    "_s = paramList[_index][1]\n",
    "\n",
    "A = A_List[_index]\n",
    "\n",
    "\n",
    "figure_asset(K, target)\n",
    "fig = figure_world(A)\n",
    "IPython.display.HTML(matplotlib.animation.FuncAnimation(fig, update_param_all, frames=600, interval=10).to_jshtml())\n",
    "\n"
   ]
  },
  {
   "cell_type": "code",
   "execution_count": null,
   "metadata": {
    "colab": {
     "base_uri": "https://localhost:8080/",
     "height": 795
    },
    "id": "WhKZf2PjsWCC",
    "outputId": "c0d256c8-309e-4708-aa4e-aee01de505f1"
   },
   "outputs": [],
   "source": [
    "# Generated example (seed = 1)\n",
    "_index = -1\n",
    "\n",
    "_b_kernel = paramList[_index][2]\n",
    "D = np.linalg.norm(np.array(np.meshgrid(np.arange(-mid,mid), np.arange(-mid,mid))),axis=0)  / R * len(_b_kernel)\n",
    "K = (D<len(_b_kernel)) * _b_kernel[np.minimum(D.astype(int),len(_b_kernel)-1)] * bell(D % 1, 0.5, 0.15)\n",
    "_K=np.fft.ifftshift(K)\n",
    "fK_new = np.fft.fft2(_K / np.sum(_K))\n",
    "\n",
    "_m = paramList[_index][0]\n",
    "_s = paramList[_index][1]\n",
    "\n",
    "A = A_List[_index]\n",
    "\n",
    "\n",
    "figure_asset(K, target)\n",
    "fig = figure_world(A)\n",
    "IPython.display.HTML(matplotlib.animation.FuncAnimation(fig, update_param_all, frames=400, interval=10).to_jshtml())\n",
    "\n"
   ]
  },
  {
   "cell_type": "code",
   "execution_count": null,
   "metadata": {
    "colab": {
     "base_uri": "https://localhost:8080/",
     "height": 833
    },
    "id": "BFnEWyL49AgP",
    "outputId": "348bf53a-c1b2-42ea-c5ed-51b0a5c0d152"
   },
   "outputs": [],
   "source": [
    "# Generated example (seed = 3407)\n",
    "\n",
    "_index = -1\n",
    "\n",
    "_b_kernel = paramList[_index][2]\n",
    "D = np.linalg.norm(np.array(np.meshgrid(np.arange(-mid,mid), np.arange(-mid,mid))),axis=0)  / R * len(_b_kernel)\n",
    "K = (D<len(_b_kernel)) * _b_kernel[np.minimum(D.astype(int),len(_b_kernel)-1)] * bell(D % 1, 0.5, 0.15)\n",
    "_K=np.fft.ifftshift(K)\n",
    "fK_new = np.fft.fft2(_K / np.sum(_K))\n",
    "\n",
    "_m = paramList[_index][0]\n",
    "_s = paramList[_index][1]\n",
    "\n",
    "A = A_List[_index]\n",
    "\n",
    "\n",
    "figure_asset(K, target)\n",
    "fig = figure_world(A)\n",
    "IPython.display.HTML(matplotlib.animation.FuncAnimation(fig, update_param_all, frames=400, interval=10).to_jshtml())\n",
    "\n"
   ]
  },
  {
   "cell_type": "code",
   "execution_count": null,
   "metadata": {
    "colab": {
     "base_uri": "https://localhost:8080/",
     "height": 833
    },
    "id": "BqOoF4XQttZ7",
    "outputId": "96eba2e7-73fe-440f-c7c0-3c21a133687b"
   },
   "outputs": [],
   "source": [
    "# Generated example (seed = 2)\n",
    "_index = -1\n",
    "\n",
    "_b_kernel = paramList[_index][2]\n",
    "D = np.linalg.norm(np.array(np.meshgrid(np.arange(-mid,mid), np.arange(-mid,mid))),axis=0)  / R * len(_b_kernel)\n",
    "K = (D<len(_b_kernel)) * _b_kernel[np.minimum(D.astype(int),len(_b_kernel)-1)] * bell(D % 1, 0.5, 0.15)\n",
    "_K=np.fft.ifftshift(K)\n",
    "fK_new = np.fft.fft2(_K / np.sum(_K))\n",
    "\n",
    "_m = paramList[_index][0]\n",
    "_s = paramList[_index][1]\n",
    "\n",
    "A = A_List[_index]\n",
    "\n",
    "\n",
    "figure_asset(K, target)\n",
    "fig = figure_world(A)\n",
    "IPython.display.HTML(matplotlib.animation.FuncAnimation(fig, update_param_all, frames=200, interval=10).to_jshtml())\n",
    "\n"
   ]
  }
 ],
 "metadata": {
  "accelerator": "GPU",
  "colab": {
   "collapsed_sections": [
    "GmZtAEKJPIT3",
    "_AW2IlRvQ6FH",
    "lFyQXdDNZlLc",
    "3wqqcay2aBBQ"
   ],
   "gpuType": "T4",
   "provenance": []
  },
  "kernelspec": {
   "display_name": "Python 3",
   "name": "python3"
  },
  "language_info": {
   "name": "python"
  }
 },
 "nbformat": 4,
 "nbformat_minor": 0
}
